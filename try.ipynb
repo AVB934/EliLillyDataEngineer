{
 "cells": [
  {
   "cell_type": "markdown",
   "metadata": {},
   "source": [
    "# Data Engineer\n",
    "## Introduction\n",
    "The following tasks are to test the basic skillset of a data engineer.\n",
    "You aren’t expected to spend more than 30-60 minutes on this task\n",
    "You are free to use the internet but must solve this task yourself.\n",
    "\n",
    "\n",
    "* You will find three csv files attached whih you will need to use to answer the below questions: 1.goalscorers.csv, results.csv & shootouts.csv\n",
    "* Add your answers to this file:answers\n",
    "\n",
    "## Objectives\n",
    "1. Create a query that calculates the average number of goals per game between 1900 and 2000.\n",
    "2. Create a query that counts the number of shootouts wins by country and arrange in alphabetical order.\n",
    "3. Create a reliable key that allows the joining together of goal scorers, results, and shootouts.\n",
    "4. Create a query that identifies which teams have won a penalty shootout after a 1-1 draw.\n",
    "5. Create a query that identifies the top goal scorer by tournament, and what percentage that equates to for all goals scored in the tournament.\n",
    "\n",
    "Additional (If you have time)\n",
    "1. Create and additional column that flags records with data quality issues\n",
    "2. Resolve the identified quality issues"
   ]
  },
  {
   "cell_type": "code",
   "execution_count": 63,
   "metadata": {},
   "outputs": [],
   "source": [
    "import pandas as pd\n",
    "\n",
    "goalscorers = pd.read_csv('goalscorers.csv')\n",
    "results = pd.read_csv('results.csv')\n",
    "shootouts = pd.read_csv('shootouts.csv')"
   ]
  },
  {
   "cell_type": "code",
   "execution_count": 64,
   "metadata": {},
   "outputs": [
    {
     "name": "stdout",
     "output_type": "stream",
     "text": [
      "         date  home_team away_team       team            scorer  minute  \\\n",
      "0  1916-07-02      Chile   Uruguay    Uruguay   José Piendibene    44.0   \n",
      "1  1916-07-02      Chile   Uruguay    Uruguay  Isabelino Gradín    55.0   \n",
      "2  1916-07-02      Chile   Uruguay    Uruguay  Isabelino Gradín    70.0   \n",
      "3  1916-07-02      Chile   Uruguay    Uruguay   José Piendibene    75.0   \n",
      "4  1916-07-06  Argentina     Chile  Argentina     Alberto Ohaco     2.0   \n",
      "\n",
      "  own_goal penalty  \n",
      "0    False   False  \n",
      "1    False   False  \n",
      "2    False   False  \n",
      "3    False   False  \n",
      "4    False   False  \n"
     ]
    }
   ],
   "source": [
    "print(goalscorers.head())"
   ]
  },
  {
   "cell_type": "code",
   "execution_count": 65,
   "metadata": {},
   "outputs": [
    {
     "name": "stdout",
     "output_type": "stream",
     "text": [
      "         date home_team away_team  home_score  away_score tournament     city  \\\n",
      "0  1872-11-30  Scotland   England           0           0   Friendly  Glasgow   \n",
      "1  1873-03-08   England  Scotland           4           2   Friendly   London   \n",
      "2  1874-03-07  Scotland   England           2           1   Friendly  Glasgow   \n",
      "3  1875-03-06   England  Scotland           2           2   Friendly   London   \n",
      "4  1876-03-04  Scotland   England           3           0   Friendly  Glasgow   \n",
      "\n",
      "    country  neutral  \n",
      "0  Scotland    False  \n",
      "1   England    False  \n",
      "2  Scotland    False  \n",
      "3   England    False  \n",
      "4  Scotland    False  \n"
     ]
    }
   ],
   "source": [
    "print(results.head())"
   ]
  },
  {
   "cell_type": "code",
   "execution_count": 66,
   "metadata": {},
   "outputs": [
    {
     "name": "stdout",
     "output_type": "stream",
     "text": [
      "         date    home_team         away_team       winner first_shooter\n",
      "0  1967-08-22        India            Taiwan       Taiwan           NaN\n",
      "1  1971-11-14  South Korea  Vietnam Republic  South Korea           NaN\n",
      "2  1972-05-07  South Korea              Iraq         Iraq           NaN\n",
      "3  1972-05-17     Thailand       South Korea  South Korea           NaN\n",
      "4  1972-05-19     Thailand          Cambodia     Thailand           NaN\n"
     ]
    }
   ],
   "source": [
    "print(shootouts.head())"
   ]
  },
  {
   "cell_type": "markdown",
   "metadata": {},
   "source": [
    "Task 1: Average Number of Goals per Game (1900-2000)\n",
    "\n",
    "Filter results for matches between 1900 and 2000, compute the total goals (home_score + away_score) for each match, and calculate the average.\n",
    "\n",
    "1. Create a query that calculates the average number of goals per game between 1900 and 2000."
   ]
  },
  {
   "cell_type": "code",
   "execution_count": 67,
   "metadata": {},
   "outputs": [
    {
     "name": "stdout",
     "output_type": "stream",
     "text": [
      "Average goals per game (1900-2000): 3.0704284750337383\n"
     ]
    }
   ],
   "source": [
    "# Convert the 'date' column to datetime and extract the year\n",
    "results['year'] = pd.to_datetime(results['date']).dt.year\n",
    "\n",
    "# Filter the results for games between 1900 and 2000, and create a copy\n",
    "filtered_results = results[(results['year'] >= 1900) & (results['year'] <= 2000)].copy()\n",
    "\n",
    "# Add a new column for total goals\n",
    "filtered_results['total_goals'] = filtered_results['home_score'] + filtered_results['away_score']\n",
    "\n",
    "# Calculate the average number of goals per game\n",
    "average_goals = filtered_results['total_goals'].mean()\n",
    "\n",
    "# Print the result\n",
    "print(\"Average goals per game (1900-2000):\", average_goals)"
   ]
  },
  {
   "cell_type": "markdown",
   "metadata": {},
   "source": [
    "Task 2: Shootout Wins by Country\n",
    "\n",
    "Group shootouts by winner and count the occurrences. Sort alphabetically by country.\n",
    "\n",
    "2. Create a query that counts the number of shootouts wins by country and arrange in alphabetical order."
   ]
  },
  {
   "cell_type": "code",
   "execution_count": 75,
   "metadata": {},
   "outputs": [
    {
     "name": "stdout",
     "output_type": "stream",
     "text": [
      "                 country  wins\n",
      "79              Abkhazia     2\n",
      "26               Algeria     7\n",
      "16                Angola     7\n",
      "92   Antigua and Barbuda     2\n",
      "0              Argentina    14\n",
      "..                   ...   ...\n",
      "1                 Zambia    13\n",
      "108             Zanzibar     2\n",
      "22              Zimbabwe     7\n",
      "162                Åland     1\n",
      "104        Åland Islands     2\n",
      "\n",
      "[163 rows x 2 columns]\n"
     ]
    }
   ],
   "source": [
    "shootout_wins = shootouts['winner'].value_counts().reset_index()\n",
    "shootout_wins.columns = ['country', 'wins']\n",
    "shootout_wins_sorted = shootout_wins.sort_values(by='country')\n",
    "print(shootout_wins_sorted)"
   ]
  },
  {
   "cell_type": "markdown",
   "metadata": {},
   "source": [
    "Task 3: Reliable Key for Joining\n",
    "\n",
    "A reliable join key should uniquely identify matches across all datasets. Since all datasets share date, home_team, and away_team, we can use these fields to create a composite key.\n",
    "\n",
    "3. Create a reliable key that allows the joining together of goal scorers, results, and shootouts."
   ]
  },
  {
   "cell_type": "code",
   "execution_count": null,
   "metadata": {},
   "outputs": [
    {
     "name": "stdout",
     "output_type": "stream",
     "text": [
      "    shootout_date shootout_home_team shootout_away_team shootout_winner\n",
      "0      1967-08-22              India             Taiwan          Taiwan\n",
      "1      1971-11-14        South Korea   Vietnam Republic     South Korea\n",
      "2      1972-05-07        South Korea               Iraq            Iraq\n",
      "3      1972-05-17           Thailand        South Korea     South Korea\n",
      "4      1972-05-19           Thailand           Cambodia        Thailand\n",
      "..            ...                ...                ...             ...\n",
      "518    2023-07-12      United States             Panama          Panama\n",
      "519    2023-07-13              Åland   Falkland Islands           Åland\n",
      "520    2023-09-07               Iraq              India            Iraq\n",
      "521    2023-09-10           Thailand               Iraq            Iraq\n",
      "522    2023-10-13               Iraq              Qatar           Qatar\n",
      "\n",
      "[523 rows x 4 columns]\n",
      "Index(['date', 'home_team', 'away_team', 'home_score', 'away_score',\n",
      "       'tournament', 'city', 'country', 'neutral', 'year', 'join_key',\n",
      "       'shootout_date', 'shootout_home_team', 'shootout_away_team',\n",
      "       'shootout_winner', 'first_shooter'],\n",
      "      dtype='object')\n"
     ]
    }
   ],
   "source": [
    "\n",
    "# Create composite join keys for each dataset\n",
    "results['join_key'] = results['date'] + '_' + results['home_team'] + '_' + results['away_team']\n",
    "goalscorers['join_key'] = goalscorers['date'] + '_' + goalscorers['home_team'] + '_' + goalscorers['away_team']\n",
    "shootouts['join_key'] = shootouts['date'] + '_' + shootouts['home_team'] + '_' + shootouts['away_team']\n",
    "\n",
    "# Filter draws (matches where home_score equals away_score)\n",
    "draws = results[results['home_score'] == results['away_score']].copy()\n",
    "\n",
    "# Create join_key for the draws dataset using .loc\n",
    "draws.loc[:, 'join_key'] = draws['date'] + '_' + draws['home_team'] + '_' + draws['away_team']\n",
    "\n",
    "# Rename overlapping columns in shootouts to avoid conflicts\n",
    "shootouts_renamed = shootouts.rename(columns={\n",
    "    'date': 'shootout_date',\n",
    "    'home_team': 'shootout_home_team',\n",
    "    'away_team': 'shootout_away_team',\n",
    "    'winner': 'shootout_winner'\n",
    "})\n",
    "\n",
    "# Perform the merge based on 'join_key'\n",
    "draws_with_shootouts = draws.merge(shootouts_renamed, on='join_key', how='inner')\n",
    "\n",
    "# Select only the necessary columns\n",
    "required_columns = ['shootout_date', 'shootout_home_team', 'shootout_away_team', 'shootout_winner']\n",
    "\n",
    "# Verify if the necessary columns are present\n",
    "if all(col in draws_with_shootouts.columns for col in required_columns):\n",
    "    winners = draws_with_shootouts[required_columns]\n",
    "    print(winners)\n",
    "else:\n",
    "    print(\"Required columns are missing after the merge.\")\n",
    "\n",
    "\n",
    "\n",
    "\n",
    "\n"
   ]
  },
  {
   "cell_type": "code",
   "execution_count": 76,
   "metadata": {},
   "outputs": [
    {
     "name": "stdout",
     "output_type": "stream",
     "text": [
      "Index(['date', 'home_team', 'away_team', 'home_score', 'away_score',\n",
      "       'tournament', 'city', 'country', 'neutral', 'year', 'join_key',\n",
      "       'shootout_date', 'shootout_home_team', 'shootout_away_team',\n",
      "       'shootout_winner', 'first_shooter'],\n",
      "      dtype='object')\n"
     ]
    }
   ],
   "source": [
    "print(draws_with_shootouts.columns)"
   ]
  },
  {
   "cell_type": "markdown",
   "metadata": {},
   "source": [
    "Task 4: Teams Winning Shootouts After a 1-1 Draw\n",
    "\n",
    "Filter results for matches with a 1-1 draw, and then cross-reference with shootouts to identify winners.\n",
    "\n",
    "4. Create a query that identifies which teams have won a penalty shootout after a 1-1 draw."
   ]
  },
  {
   "cell_type": "code",
   "execution_count": 69,
   "metadata": {},
   "outputs": [
    {
     "name": "stdout",
     "output_type": "stream",
     "text": [
      "           date      home_team         away_team shootout_winner\n",
      "0    1967-08-22          India            Taiwan          Taiwan\n",
      "1    1971-11-14    South Korea  Vietnam Republic     South Korea\n",
      "2    1972-05-07    South Korea              Iraq            Iraq\n",
      "3    1972-05-17       Thailand       South Korea     South Korea\n",
      "4    1973-06-14         Guinea              Mali          Guinea\n",
      "..          ...            ...               ...             ...\n",
      "415  2023-07-01          India           Lebanon           India\n",
      "416  2023-07-04          India            Kuwait           India\n",
      "417  2023-07-12  United States            Panama          Panama\n",
      "418  2023-07-13          Åland  Falkland Islands           Åland\n",
      "419  2023-10-13           Iraq             Qatar           Qatar\n",
      "\n",
      "[420 rows x 4 columns]\n"
     ]
    }
   ],
   "source": [
    "# Step 1: Filter results for matches that ended in a 1-1 draw\n",
    "draws_1_1 = results[results['home_score'] == 1 & (results['away_score'] == 1)].copy()\n",
    "\n",
    "# Step 2: Merge with shootouts based on the composite join key\n",
    "draws_with_shootouts = draws_1_1.merge(shootouts_renamed, on='join_key', how='inner')\n",
    "\n",
    "# Step 3: Extract the relevant columns for winners\n",
    "winners = draws_with_shootouts[['shootout_date', 'shootout_home_team', 'shootout_away_team', 'shootout_winner']].copy()\n",
    "\n",
    "# Step 4: Rename columns for clarity (optional)\n",
    "winners.rename(columns={\n",
    "    'shootout_date': 'date',\n",
    "    'shootout_home_team': 'home_team',\n",
    "    'shootout_away_team': 'away_team'\n",
    "}, inplace=True)\n",
    "\n",
    "# Step 5: Display the winners\n",
    "print(winners)"
   ]
  },
  {
   "cell_type": "markdown",
   "metadata": {},
   "source": [
    "Task 5: Top Goal Scorer by Tournament\n",
    "\n",
    "Group by tournament and scorer to find the player with the most goals in each tournament. Then calculate their percentage of total tournament goals.\n",
    "\n",
    "5. Create a query that identifies the top goal scorer by tournament, and what percentage that equates to for all goals scored in the tournament."
   ]
  },
  {
   "cell_type": "code",
   "execution_count": 70,
   "metadata": {},
   "outputs": [
    {
     "name": "stdout",
     "output_type": "stream",
     "text": [
      "                        tournament                   scorer  scorer_goals  \\\n",
      "0                    AFC Asian Cup                 Ali Daei            14   \n",
      "1           African Cup of Nations             Samuel Eto'o            18   \n",
      "2                       Baltic Cup          Ēriks Pētersons             9   \n",
      "3        British Home Championship              Geoff Hurst             4   \n",
      "4   CONMEBOL–UEFA Cup of Champions         Claudio Caniggia             1   \n",
      "5               Confederations Cup        Cuauhtémoc Blanco             9   \n",
      "6                     Copa América  Norberto Doroteo Méndez            17   \n",
      "7                   FIFA World Cup           Miroslav Klose            16   \n",
      "8     FIFA World Cup qualification              Carlos Ruiz            39   \n",
      "9                         Gold Cup           Landon Donovan            18   \n",
      "10               NAFC Championship        Luis de la Fuente             3   \n",
      "11             Oceania Nations Cup              Damian Mori            14   \n",
      "12                       UEFA Euro        Cristiano Ronaldo            14   \n",
      "13         UEFA Euro qualification        Cristiano Ronaldo            41   \n",
      "14             UEFA Nations League      Aleksandar Mitrović            14   \n",
      "\n",
      "    total_goals  percentage  \n",
      "0           989    1.415571  \n",
      "1          1767    1.018676  \n",
      "2           229    3.930131  \n",
      "3            33   12.121212  \n",
      "4             7   14.285714  \n",
      "5           423    2.127660  \n",
      "6          2671    0.636466  \n",
      "7          2720    0.588235  \n",
      "8         22738    0.171519  \n",
      "9          1097    1.640839  \n",
      "10           10   30.000000  \n",
      "11          534    2.621723  \n",
      "12          829    1.688782  \n",
      "13         7958    0.515205  \n",
      "14         1184    1.182432  \n"
     ]
    }
   ],
   "source": [
    "# Merge goalscorers with results to add tournament details using the join_key\n",
    "goalscorers_with_tournament = pd.merge(goalscorers, results[['date', 'home_team', 'away_team', 'tournament', 'join_key']],\n",
    "                                       on=['join_key'], how='left')\n",
    "\n",
    "# Total goals by tournament\n",
    "tournament_goals = goalscorers_with_tournament.groupby('tournament').size().reset_index(name='total_goals')\n",
    "\n",
    "# Goals by scorer per tournament\n",
    "scorer_goals = goalscorers_with_tournament.groupby(['tournament', 'scorer']).size().reset_index(name='scorer_goals')\n",
    "\n",
    "# Find the top scorer per tournament (the one with the most goals)\n",
    "top_scorer_per_tournament = scorer_goals.loc[scorer_goals.groupby('tournament')['scorer_goals'].idxmax()]\n",
    "\n",
    "# Merge to calculate the percentage of total goals scored by the top scorer\n",
    "top_scorer_with_percentage = top_scorer_per_tournament.merge(tournament_goals, on='tournament')\n",
    "top_scorer_with_percentage['percentage'] = (top_scorer_with_percentage['scorer_goals'] / \n",
    "                                            top_scorer_with_percentage['total_goals']) * 100\n",
    "\n",
    "# Print the result\n",
    "print(top_scorer_with_percentage[['tournament', 'scorer', 'scorer_goals', 'total_goals', 'percentage']])"
   ]
  },
  {
   "cell_type": "markdown",
   "metadata": {},
   "source": [
    "TASK \n",
    "\n",
    "Additional\n",
    "\n",
    "1. Create and additional column that flags records with data quality issues\n",
    "\n",
    "2. Resolve the identified quality issues\n",
    "\n",
    "\n",
    "ADDITIONAL \n",
    "Task Summary: Flagging and Resolving Data Quality Issues\n",
    "\n",
    "The task involves creating an additional column in each dataset to flag records with potential data quality issues. \n",
    "\n",
    "This column helps identify rows with common issues such as missing values, duplicates, or invalid data. Here’s a summary of the steps taken:\n",
    "\n",
    "1.\tData Quality Flagging:\n",
    "•\tMissing Values: Rows with missing values in critical columns like date, home_team, and away_team are flagged.\n",
    "•\tDuplicates: Rows with duplicate entries based on the combination of date, home_team, and away_team are flagged.\n",
    "•\tInvalid Data:\n",
    "•\tIn the goalscorers dataset, the minute column is checked to ensure valid values (0 to 90).\n",
    "•\tIn the results dataset, negative scores for home_score or away_score are flagged as invalid.\n",
    "•\tIn the shootouts dataset, rows with missing winner values are flagged.\n",
    "\n",
    "2.\tImplementation:\n",
    "•\tA function flag_data_quality was created to flag issues across each dataset.\n",
    "•\tThe flagged issues are stored in a new column, data_quality_flag, which is True if an issue is identified.\n",
    "\n",
    "3.\tOutput:\n",
    "•\tThe datasets (goalscorers, results, shootouts) are updated with the data_quality_flag column.\n",
    "•\tThe rows with flagged issues are printed for inspection and resolution."
   ]
  },
  {
   "cell_type": "code",
   "execution_count": 71,
   "metadata": {},
   "outputs": [],
   "source": [
    "# Function to flag data quality issues\n",
    "def flag_data_quality(df, dataset_name):\n",
    "    # Create an empty 'data_quality_flag' column initialized to False\n",
    "    df['data_quality_flag'] = False\n",
    "\n",
    "    # Flag rows with missing values in critical columns (example columns: 'date', 'home_team', 'away_team')\n",
    "    if 'date' in df.columns:\n",
    "        df['data_quality_flag'] = df['data_quality_flag'] | df['date'].isnull()\n",
    "    if 'home_team' in df.columns:\n",
    "        df['data_quality_flag'] = df['data_quality_flag'] | df['home_team'].isnull()\n",
    "    if 'away_team' in df.columns:\n",
    "        df['data_quality_flag'] = df['data_quality_flag'] | df['away_team'].isnull()\n",
    "    \n",
    "    # Flag rows with duplicates based on 'date', 'home_team', and 'away_team'\n",
    "    df['data_quality_flag'] = df['data_quality_flag'] | df.duplicated(subset=['date', 'home_team', 'away_team'], keep=False)\n",
    "\n",
    "    # Example of flagging rows with invalid data (can adjust per dataset)\n",
    "    if dataset_name == \"goalscorers\" and 'minute' in df.columns:\n",
    "        df['data_quality_flag'] = df['data_quality_flag'] | ~df['minute'].between(0, 90)  # Flag invalid minutes\n",
    "    \n",
    "    if dataset_name == \"results\":\n",
    "        # Flag rows with impossible score values (e.g., negative scores)\n",
    "        df['data_quality_flag'] = df['data_quality_flag'] | (df['home_score'] < 0) | (df['away_score'] < 0)\n",
    "    \n",
    "    if dataset_name == \"shootouts\" and 'winner' in df.columns:\n",
    "        # Flag rows with missing winners\n",
    "        df['data_quality_flag'] = df['data_quality_flag'] | df['winner'].isnull()\n",
    "\n",
    "    return df\n",
    "\n",
    "# Flag data quality issues for each dataset\n",
    "goalscorers = flag_data_quality(goalscorers, \"goalscorers\")\n",
    "results = flag_data_quality(results, \"results\")\n",
    "shootouts = flag_data_quality(shootouts, \"shootouts\")"
   ]
  },
  {
   "cell_type": "code",
   "execution_count": 72,
   "metadata": {},
   "outputs": [
    {
     "name": "stdout",
     "output_type": "stream",
     "text": [
      "Goalscorers with Data Quality Issues:\n",
      "             date  home_team away_team       team            scorer  minute  \\\n",
      "0      1916-07-02      Chile   Uruguay    Uruguay   José Piendibene    44.0   \n",
      "1      1916-07-02      Chile   Uruguay    Uruguay  Isabelino Gradín    55.0   \n",
      "2      1916-07-02      Chile   Uruguay    Uruguay  Isabelino Gradín    70.0   \n",
      "3      1916-07-02      Chile   Uruguay    Uruguay   José Piendibene    75.0   \n",
      "4      1916-07-06  Argentina     Chile  Argentina     Alberto Ohaco     2.0   \n",
      "...           ...        ...       ...        ...               ...     ...   \n",
      "43182  2023-11-21     Greece    France     Greece   Tasos Bakasetas    56.0   \n",
      "43183  2023-11-21     Greece    France     Greece   Fotis Ioannidis    61.0   \n",
      "43184  2023-11-21     Greece    France     France   Youssouf Fofana    74.0   \n",
      "43187  2023-11-21      Wales    Turkey      Wales     Neco Williams     7.0   \n",
      "43188  2023-11-21      Wales    Turkey     Turkey      Yusuf Yazıcı    70.0   \n",
      "\n",
      "      own_goal penalty                    join_key  data_quality_flag  \n",
      "0        False   False    1916-07-02_Chile_Uruguay               True  \n",
      "1        False   False    1916-07-02_Chile_Uruguay               True  \n",
      "2        False   False    1916-07-02_Chile_Uruguay               True  \n",
      "3        False   False    1916-07-02_Chile_Uruguay               True  \n",
      "4        False   False  1916-07-06_Argentina_Chile               True  \n",
      "...        ...     ...                         ...                ...  \n",
      "43182    False   False    2023-11-21_Greece_France               True  \n",
      "43183    False   False    2023-11-21_Greece_France               True  \n",
      "43184    False   False    2023-11-21_Greece_France               True  \n",
      "43187    False   False     2023-11-21_Wales_Turkey               True  \n",
      "43188    False    True     2023-11-21_Wales_Turkey               True  \n",
      "\n",
      "[40543 rows x 10 columns]\n"
     ]
    }
   ],
   "source": [
    "# Example: Print rows with data quality issues for each dataset\n",
    "print(\"Goalscorers with Data Quality Issues:\")\n",
    "print(goalscorers[goalscorers['data_quality_flag'] == True])"
   ]
  },
  {
   "cell_type": "code",
   "execution_count": 73,
   "metadata": {},
   "outputs": [
    {
     "name": "stdout",
     "output_type": "stream",
     "text": [
      "\n",
      "Results with Data Quality Issues:\n",
      "             date home_team      away_team  home_score  away_score tournament  \\\n",
      "9072   1974-02-17    Tahiti  New Caledonia           2           1   Friendly   \n",
      "9073   1974-02-17    Tahiti  New Caledonia           1           2   Friendly   \n",
      "10554  1977-10-22    Guyana       Barbados           2           0   Friendly   \n",
      "10555  1977-10-22    Guyana       Barbados           0           0   Friendly   \n",
      "\n",
      "             city           country  neutral  year  \\\n",
      "9072      Papeete  French Polynesia    False  1974   \n",
      "9073      Papeete  French Polynesia    False  1974   \n",
      "10554      Linden            Guyana    False  1977   \n",
      "10555  Georgetown            Guyana    False  1977   \n",
      "\n",
      "                              join_key  data_quality_flag  \n",
      "9072   1974-02-17_Tahiti_New Caledonia               True  \n",
      "9073   1974-02-17_Tahiti_New Caledonia               True  \n",
      "10554       1977-10-22_Guyana_Barbados               True  \n",
      "10555       1977-10-22_Guyana_Barbados               True  \n"
     ]
    }
   ],
   "source": [
    "print(\"\\nResults with Data Quality Issues:\")\n",
    "print(results[results['data_quality_flag'] == True])"
   ]
  },
  {
   "cell_type": "code",
   "execution_count": 74,
   "metadata": {},
   "outputs": [
    {
     "name": "stdout",
     "output_type": "stream",
     "text": [
      "\n",
      "Shootouts with Data Quality Issues:\n",
      "Empty DataFrame\n",
      "Columns: [date, home_team, away_team, winner, first_shooter, join_key, data_quality_flag]\n",
      "Index: []\n"
     ]
    }
   ],
   "source": [
    "\n",
    "print(\"\\nShootouts with Data Quality Issues:\")\n",
    "print(shootouts[shootouts['data_quality_flag'] == True])"
   ]
  }
 ],
 "metadata": {
  "kernelspec": {
   "display_name": "venv",
   "language": "python",
   "name": "python3"
  },
  "language_info": {
   "codemirror_mode": {
    "name": "ipython",
    "version": 3
   },
   "file_extension": ".py",
   "mimetype": "text/x-python",
   "name": "python",
   "nbconvert_exporter": "python",
   "pygments_lexer": "ipython3",
   "version": "3.12.2"
  }
 },
 "nbformat": 4,
 "nbformat_minor": 2
}
